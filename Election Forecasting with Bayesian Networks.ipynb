{
 "cells": [
  {
   "cell_type": "markdown",
   "metadata": {},
   "source": [
    "# Inference and Reasoning with Bayesian Networks"
   ]
  },
  {
   "cell_type": "markdown",
   "metadata": {},
   "source": [
    "In this assignment we were interested in predicting the outcome on an election, based on a survey of voters who gave their preferred candidate, which region they live in, their gender, political leaning, employment status and age. These features have strong dependencies with one another, so a classification model which fails to take these into account (e.g. Naive Bayes) would be inappropriate. We have used Bayesian Networks to model the relationships between the features and makes inferences accordingly. \n",
    "\n",
    "Please evaluate this cell to enable LaTeX macros. \n",
    "$\\newcommand{\\dotprod}[2]{\\left\\langle #1, #2 \\right\\rangle}$\n",
    "$\\newcommand{\\onevec}{\\mathbb{1}}$"
   ]
  },
  {
   "cell_type": "code",
   "execution_count": 1,
   "metadata": {},
   "outputs": [],
   "source": [
    "import itertools, copy\n",
    "import matplotlib.pyplot as plt\n",
    "import numpy as np\n",
    "from IPython.display import display, Image\n",
    "\n",
    "%matplotlib inline"
   ]
  },
  {
   "cell_type": "markdown",
   "metadata": {},
   "source": [
    "##  Graphical Models\n",
    "\n",
    "### Problem setting\n",
    "\n",
    "We are interested to predict the outcome of the election in an imaginary country, called Under Some Assumptions (USA). There are four candidates for whom the citizens can **Vote** for: Bernie, Donald, Hillary, and Ted. The citizens live in four **Region**s: north, south, east and west. We have general demographic information about the people, namely: **Gender** (male, female) and **Hand**edness (right, left). Based on surveys done by an external company, we believe that the **Region** and **Gender** affects whether the people use their **Jacket**s full time, part time or never. Surprisingly, the company told us that the **Age** of their shoes (new, worn, old) depends on how often they wear their **Jacket**s. Furthermore, the **Gender** and their preferred **Hand** affects the **Colour** of their hat (white, black). Finally, surveys say that the citizens will **Vote** based on their **Region**, **Age** of their shoes and **Colour** of their hats.\n",
    "\n",
    "The directed graphical model is depicted below:"
   ]
  },
  {
   "cell_type": "code",
   "execution_count": 2,
   "metadata": {},
   "outputs": [
    {
     "data": {
      "text/html": [
       "<img src=\"https://machlearn.gitlab.io/isml2017/assignments/election_model.png\"/>"
      ],
      "text/plain": [
       "<IPython.core.display.Image object>"
      ]
     },
     "execution_count": 2,
     "metadata": {},
     "output_type": "execute_result"
    }
   ],
   "source": [
    "Image(url=\"https://machlearn.gitlab.io/isml2017/assignments/election_model.png\")"
   ]
  },
  {
   "cell_type": "markdown",
   "metadata": {},
   "source": [
    "### Conditional probability tables\n",
    "\n",
    "After paying the survey firm some more money, they provided the following conditional probability tables.\n",
    "\n",
    "|$p(R)$ | R=n | R=s | R=e | R=w |\n",
    "|:-----:|:--:|:--:|:--:|:--:|\n",
    "|marginal| 0.2 | 0.1 | 0.5 | 0.2 |\n",
    "\n",
    "|$p(G)$ | G=m | G=f |\n",
    "|:-----:|:--:|:--:|\n",
    "|marginal| 0.3 | 0.7 |\n",
    "\n",
    "|$p(H)$ | H=r | H=l |\n",
    "|:-----:|:--:|:--:|\n",
    "|marginal| 0.9 | 0.1 |\n",
    "\n",
    "| $p(J|R,G)$ | R=n,G=m | R=n,G=f | R=s,G=m | R=s,G=f | R=e,G=m | R=e,G=f | R=w,G=m | R=w,G=f |\n",
    "|:-----:|:--:|:--:|:--:|:--:|:--:|:--:|:--:|:--:|\n",
    "|**J**=full $\\quad$  |0.9 |0.8 |0.1 | 0.3 |0.4 |0.01| 0.02 | 0.2  |\n",
    "|**J**=part $\\quad$  |0.08|0.17|0.03| 0.35|0.05|0.01| 0.2  | 0.08 |\n",
    "|**J**=never $\\quad$ |0.02|0.03|0.87| 0.35|0.55|0.98| 0.78 | 0.72 |\n",
    "\n",
    "| $p(A|J)$ | J=full | J=part | J=never |\n",
    "|:-----:|:--:|:--:|:--:|\n",
    "|**A**=new  |0.01|0.96|0.3|\n",
    "|**A**=worn |0.98|0.03|0.5|\n",
    "|**A**=old  |0.01|0.01|0.2|\n",
    "\n",
    "| $p(C|G,H)$ | G=m,H=r | G=m,H=l | G=f,H=r | G=f,H=l |\n",
    "|:-----:|:--:|:--:|:--:|:--:|\n",
    "|**C**=black $\\quad$ |0.9 |0.83 |0.17 | 0.3 |\n",
    "|**C**=white $\\quad$ |0.1 |0.17|0.83 | 0.7 |\n",
    "\n",
    "The final conditional probability table is given by the matrix below. The order of the rows and columns are also given below."
   ]
  },
  {
   "cell_type": "code",
   "execution_count": 3,
   "metadata": {
    "collapsed": true
   },
   "outputs": [],
   "source": [
    "vote_column_names = ['north,new,black', 'north,new,white', 'north,worn,black', 'north,worn,white', \n",
    "                'north,old,black', 'north,old,white', 'south,new,black', 'south,new,white', \n",
    "                'south,worn,black', 'south,worn,white', 'south,old,black', 'south,old,white', \n",
    "                'east,new,black', 'east,new,white', 'east,worn,black', 'east,worn,white', \n",
    "                'east,old,black', 'east,old,white', 'west,new,black', 'west,new,white', \n",
    "                'west,worn,black', 'west,worn,white', 'west,old,black', 'west,old,white']\n",
    "\n",
    "vote_outcomes = ('bernie','donald','hillary','ted')\n",
    "\n",
    "vote_pmf_array = np.array(\n",
    "        [\n",
    "            [0.1,0.1,0.4,0.02,0.2,0.1,0.1,0.04,0.2,0.1,0.1 ,0.1,0.4 ,0.1 ,0.1,0.1 ,0.1,0.04,0.3,0.2,0.1,0.3,0.34,0.35],\n",
    "            [0.3,0.4,0.2,0.5 ,0.1,0.2,0.1,0.5 ,0.1,0.2,0.5 ,0.3,0.2 ,0.42,0.2,0.67,0.4,0.4 ,0.1,0.1,0.5,0.1,0.1 ,0.1],\n",
    "            [0.5,0.4,0.3,0.3 ,0.5,0.6,0.6,0.3 ,0.5,0.4,0.36,0.3,0.28,0.3 ,0.4,0.1 ,0.4,0.16,0.4,0.2,0.3,0.3,0.4 ,0.5],\n",
    "            [0.1,0.1,0.1,0.18,0.2,0.1,0.2,0.16,0.2,0.3,0.04,0.3,0.12,0.18,0.3,0.13,0.1,0.4 ,0.2,0.5,0.1,0.3,0.16,0.05],\n",
    "        ]\n",
    ")"
   ]
  },
  {
   "cell_type": "markdown",
   "metadata": {},
   "source": [
    "The 7 conditional probability tables in are encoded in python below. \n",
    "\n",
    "**Base your subsequent computations on these objects**."
   ]
  },
  {
   "cell_type": "code",
   "execution_count": 4,
   "metadata": {},
   "outputs": [],
   "source": [
    "class RandomVariable(object):\n",
    "    def __init__(self, name, parents, outcomes, pmf_array):\n",
    "        assert isinstance(name, str)\n",
    "        assert all(isinstance(_, RandomVariable) for _ in parents)\n",
    "        assert isinstance(outcomes, tuple)\n",
    "        assert all(isinstance(_, str) for _ in outcomes)\n",
    "        assert isinstance(parents, tuple)\n",
    "        assert isinstance(pmf_array, np.ndarray)\n",
    "        keys = tuple(map(tuple, itertools.product(*[_.outcomes for _ in parents])))\n",
    "        assert np.allclose(np.sum(pmf_array, 0), 1)\n",
    "        expected_shape = (len(outcomes), len(keys))\n",
    "        assert pmf_array.shape == expected_shape, (pmf_array.shape, expected_shape)\n",
    "        pmfs = {k: {outcome: probability for outcome, probability in zip(outcomes, probabilities)} \n",
    "                for k, probabilities in zip(keys, pmf_array.T)}\n",
    "        self.name, self.parents, self.outcomes, self.pmfs = name, parents, outcomes, pmfs\n",
    "\n",
    "\n",
    "class BayesianNetwork(object):\n",
    "    def __init__(self, *random_variables):\n",
    "        assert all(isinstance(_, RandomVariable) for _ in random_variables)\n",
    "        self.random_variables = random_variables\n",
    "        \n",
    "\n",
    "region_pmf_array = np.array([[0.2, 0.1, 0.5, 0.2]]).T\n",
    "region = RandomVariable(\n",
    "    name='region',\n",
    "    parents=tuple(),\n",
    "    outcomes=('north', 'south', 'east', 'west'), \n",
    "    pmf_array = region_pmf_array,\n",
    ")\n",
    "\n",
    "gender_pmf_array = np.array([[0.3, 0.7]]).T\n",
    "gender = RandomVariable(\n",
    "    name='gender',\n",
    "    parents=tuple(),\n",
    "    outcomes=('male', 'female'), \n",
    "    pmf_array = gender_pmf_array\n",
    ")\n",
    "\n",
    "hand_pmf_array = np.array([[0.9, 0.1]]).T\n",
    "hand = RandomVariable(\n",
    "    name='hand',\n",
    "    parents=tuple(),\n",
    "    outcomes=('left', 'right'), \n",
    "    pmf_array = hand_pmf_array\n",
    ")\n",
    "\n",
    "jacket_pmf_array = np.array(\n",
    "        [\n",
    "            [0.9,0.8,0.1,0.3,0.4,0.01,0.02,0.2],\n",
    "            [0.08,0.17,0.03,0.35,0.05,0.01,0.2,0.08],\n",
    "            [0.02,0.03,0.87,0.35,0.55,0.98,0.78,0.72],\n",
    "        ]\n",
    "    )\n",
    "jacket = RandomVariable(\n",
    "    name='jacket',\n",
    "    parents=(region, gender),\n",
    "    outcomes=('full', 'part', 'never'), \n",
    "    pmf_array = jacket_pmf_array\n",
    ")\n",
    "\n",
    "age_pmf_array = np.array(\n",
    "        [\n",
    "            [0.01,0.96,0.3],\n",
    "            [0.98,0.03,0.5],\n",
    "            [0.01,0.01,0.2],\n",
    "        ]\n",
    "    )\n",
    "age = RandomVariable(\n",
    "    name='age',\n",
    "    parents=(jacket, ),\n",
    "    outcomes=('new', 'worn', 'old'), \n",
    "    pmf_array = age_pmf_array\n",
    ")\n",
    "\n",
    "colour_pmf_array = np.array(\n",
    "        [\n",
    "            [0.9,0.83,0.17,0.3],\n",
    "            [0.1,0.17,0.83,0.7],\n",
    "        ]\n",
    "    )\n",
    "colour = RandomVariable(\n",
    "    name='colour',\n",
    "    parents=(gender, hand),\n",
    "    outcomes=('black', 'white'),\n",
    "    pmf_array = colour_pmf_array\n",
    ")\n",
    "\n",
    "vote = RandomVariable(\n",
    "    name='vote',\n",
    "    parents=(region, age, colour),\n",
    "    outcomes=vote_outcomes,\n",
    "    pmf_array = vote_pmf_array\n",
    ")\n",
    "\n",
    "\n",
    "election_model = BayesianNetwork(region, gender, hand, jacket, age, colour, vote)"
   ]
  },
  {
   "cell_type": "markdown",
   "metadata": {},
   "source": [
    "### 1A Joint distribution of a subset\n",
    "\n",
    "- Compute the joint distribution of **Jacket**, **Region** and **Gender**. Print in a tab separated format the resulting distribution."
   ]
  },
  {
   "cell_type": "code",
   "execution_count": 5,
   "metadata": {},
   "outputs": [
    {
     "name": "stdout",
     "output_type": "stream",
     "text": [
      "jacket region gender joint_pmf\n",
      "------------------------------\n",
      "full   north  male   0.054\n",
      "full   north  female 0.112\n",
      "full   south  male   0.003\n",
      "full   south  female 0.021\n",
      "full   east   male   0.06\n",
      "full   east   female 0.0035\n",
      "full   west   male   0.0012\n",
      "full   west   female 0.028\n",
      " \n",
      "jacket region gender joint_pmf\n",
      "------------------------------\n",
      "part   north  male   0.0048\n",
      "part   north  female 0.0238\n",
      "part   south  male   0.0009\n",
      "part   south  female 0.0245\n",
      "part   east   male   0.0075\n",
      "part   east   female 0.0035\n",
      "part   west   male   0.012\n",
      "part   west   female 0.0112\n",
      " \n",
      "jacket region gender joint_pmf\n",
      "------------------------------\n",
      "never  north  male   0.0012\n",
      "never  north  female 0.0042\n",
      "never  south  male   0.0261\n",
      "never  south  female 0.0245\n",
      "never  east   male   0.0825\n",
      "never  east   female 0.343\n",
      "never  west   male   0.0468\n",
      "never  west   female 0.1008\n",
      " \n"
     ]
    }
   ],
   "source": [
    "def print_joint_JRG():\n",
    "    '''\n",
    "    Prints the joint distribution of Jacket, Region, Gender.\n",
    "    Uses the fact that Region and Gender are independent, so\n",
    "    p(J, R, G) = p(J | R, G) * p(R) * p(G)\n",
    "    '''\n",
    "    for jacket_outcome in jacket.outcomes:\n",
    "        print('jacket region gender joint_pmf')\n",
    "        print('------------------------------')\n",
    "        for region_outcome in region.outcomes:\n",
    "            for gender_outcome in gender.outcomes:\n",
    "                JRG_joint = jacket.pmfs[(region_outcome, gender_outcome)][jacket_outcome] * \\\n",
    "                region.pmfs[()][region_outcome] * gender.pmfs[()][gender_outcome]\n",
    "                print(jacket_outcome + ' '*(7-len(jacket_outcome)) + region_outcome + ' '*(7-len(region_outcome))\\\n",
    "                      + gender_outcome + ' '* (7 - len(gender_outcome)) + str(JRG_joint) )\n",
    "        print(' ')\n",
    "        \n",
    "print_joint_JRG()"
   ]
  },
  {
   "cell_type": "markdown",
   "metadata": {},
   "source": [
    "### 1B1 Variable Ordering\n",
    "\n",
    "1. Implement a function which determines an appropriate ordering of the variables for use in the following scheme:\n",
    "    - For the first node R, draw a sample from p(R).\n",
    "    - For each subsequent node, draw a sample from the conditional distribution $p(X \\,|\\, \\text{parents}(X))$ where $\\text{parents}(X)$ are the parents of the variable $X$ in the graphical model.\n",
    "- Use your function to compute such an ordering and print the result in a human friendly format.\n",
    "\n",
    "\n",
    "1."
   ]
  },
  {
   "cell_type": "code",
   "execution_count": 6,
   "metadata": {
    "collapsed": true
   },
   "outputs": [],
   "source": [
    "def child_dictionary(network):\n",
    "    '''\n",
    "    For a network of random variables, this function returns a dictionary whose keys are \n",
    "    the random variables and the values are dictionaries containing a list of children \n",
    "    of the key.\n",
    "    \n",
    "    This function makes it easier to implement a depth first search of the network.\n",
    "    '''\n",
    "    child_dict = { random_variable : [] for random_variable in network.random_variables }\n",
    "    \n",
    "    for random_variable in network.random_variables:\n",
    "        for parent in random_variable.parents:\n",
    "            child_dict[parent].append(random_variable)\n",
    "    return child_dict\n",
    "\n",
    "def dfs(network):\n",
    "    '''\n",
    "    Takes in a network and returns a list of nodes ordered so that any entries\n",
    "    parents are earlier in the list (a topological ordering). Uses Depth First Search.\n",
    "    If not a DAG, will return \"Not a DAG\".\n",
    "    '''\n",
    "    mark_dict = {random_variable : 'unmarked' for random_variable in network.random_variables}\n",
    "    child_dict = child_dictionary(network)\n",
    "    \n",
    "    L = [] # List that eventually stores nodes in correct order\n",
    "    def visit(node):\n",
    "        if mark_dict[node] == 'temp_mark':\n",
    "            return \"Not a DAG\"\n",
    "        if mark_dict[node] == 'unmarked':\n",
    "            mark_dict[node] = 'temp_mark'\n",
    "            for child in child_dictionary(network)[node]:\n",
    "                visit(child)\n",
    "            mark_dict[node] = 'marked'\n",
    "            L.insert(0,node)\n",
    "            \n",
    "    def unmarked(mDic):\n",
    "        return [key for key, value in mark_dict.items() if value == 'unmarked']\n",
    "    \n",
    "    while unmarked(mark_dict):\n",
    "        visit(unmarked(mark_dict)[0])\n",
    "    return L\n",
    "    "
   ]
  },
  {
   "cell_type": "markdown",
   "metadata": {},
   "source": [
    "2."
   ]
  },
  {
   "cell_type": "code",
   "execution_count": 7,
   "metadata": {},
   "outputs": [
    {
     "name": "stdout",
     "output_type": "stream",
     "text": [
      "1 hand\n",
      "2 gender\n",
      "3 colour\n",
      "4 region\n",
      "5 jacket\n",
      "6 age\n",
      "7 vote\n"
     ]
    }
   ],
   "source": [
    "ordering = dfs(election_model)\n",
    "\n",
    "for i, node in enumerate(ordering):\n",
    "    print(i+1, node.name)"
   ]
  },
  {
   "cell_type": "markdown",
   "metadata": {},
   "source": [
    "### 1B2 Sampling\n",
    "\n",
    "1. Given the ordering you have determined above, implement the sampler described in the previous question. If you were unable to compute the ordering in the previous question, use ``ordering = (hand, region, gender, colour, jacket, age, vote)``.\n",
    "2. Draw a single sample and print the result in a human friendly format.\n",
    "\n",
    "\n",
    "1."
   ]
  },
  {
   "cell_type": "code",
   "execution_count": 8,
   "metadata": {},
   "outputs": [],
   "source": [
    "def sample_node(node, parents_values):\n",
    "    '''\n",
    "    Given a node and the values of its parents, function returns a sample outcome\n",
    "    of the node conditional on the values of it's parents. Uses numpy's random.multinomial\n",
    "    to sample over the various options with their specified probabilities.\n",
    "    '''\n",
    "    outcome_list = [outcome for outcome in sorted(node.pmfs[parents_values].keys())]\n",
    "    outcome_probs = [ node.pmfs[parents_values][outcome] for outcome in sorted(node.pmfs[parents_values].keys())]\n",
    "    \n",
    "    return outcome_list[np.where(np.random.multinomial(1, outcome_probs) ==1)[0][0]]\n",
    "    \n",
    "\n",
    "def sample_network(network):\n",
    "    '''\n",
    "    Given a DAG, function returns a sample from the network by first computing\n",
    "    a topological order, then sampling each node conditional on the values of it's parents.\n",
    "    '''\n",
    "    ordered_nodes = dfs(network)\n",
    "    sample_dict = dict()\n",
    "\n",
    "    for node in ordered_nodes:\n",
    "        parent_values = tuple( sample_dict[parent.name] for parent in node.parents)\n",
    "        sample_dict[node.name] = sample_node(node, parent_values)\n",
    "    return sample_dict\n",
    "            \n",
    "                "
   ]
  },
  {
   "cell_type": "markdown",
   "metadata": {},
   "source": [
    "2."
   ]
  },
  {
   "cell_type": "code",
   "execution_count": 9,
   "metadata": {},
   "outputs": [
    {
     "name": "stdout",
     "output_type": "stream",
     "text": [
      "Variable  Outcome\n",
      "----------------\n",
      "hand      left\n",
      "gender    male\n",
      "colour    black\n",
      "region    east\n",
      "jacket    part\n",
      "age       new\n",
      "vote      donald\n"
     ]
    }
   ],
   "source": [
    "sample = sample_network(election_model)\n",
    "\n",
    "print('Variable  Outcome')\n",
    "print('----------------')\n",
    "for node, outcome in sample.items():\n",
    "    print( node + ' '*(10 - len(node))  + outcome)"
   ]
  },
  {
   "cell_type": "markdown",
   "metadata": {},
   "source": [
    "### 1B3 Marginals\n",
    "\n",
    "1. Calculate (and show in LaTeX) the marginal distribution for **Jacket**.\n",
    "- Implement a function which computes the marginal distribution of each variable. It should make use of the ordering used by your sampler.\n",
    "- Implement a function which takes a list of samples the model and computes the empirical marginal distribution of each variable.\n",
    "- Plot the theoretical and approximate marginals which you obtain along with the absolute percent error between the two, in the format below:"
   ]
  },
  {
   "cell_type": "raw",
   "metadata": {},
   "source": [
    "region\n",
    "outcome\texact\tapprox\terror (%)\n",
    "north\t0.20\t0.20\t0.4\n",
    "south\t0.10\t0.10\t0.1\n",
    "east\t0.50\t0.50\t0.4\n",
    "west\t0.20\t0.20\t0.6\n",
    "\n",
    "gender\n",
    "outcome\texact\tapprox\terror (%)\n",
    "male\t0.30\t0.30\t0.1\n",
    "female\t0.70\t0.70\t0.0\n",
    "\n",
    "etc."
   ]
  },
  {
   "cell_type": "markdown",
   "metadata": {},
   "source": [
    "1.By summing the right hand columns of each block printing in Question 1A, we can see that the marginal distribution for Jacket is given by: \n",
    "$$ \\mathbb{P}( \\text{Jacket} = \\text{'full'} ) = 0.2827 \\\\\n",
    "\\mathbb{P}( \\text{Jacket} = \\text{'part'} ) = 0.0882 \\\\\n",
    "\\mathbb{P}( \\text{Jacket} = \\text{'never'} ) = 0.6291 \\\\\n",
    "$$\n",
    "\n",
    "2."
   ]
  },
  {
   "cell_type": "code",
   "execution_count": 10,
   "metadata": {
    "collapsed": true
   },
   "outputs": [],
   "source": [
    "def joint_pmf(outcome_dict, network):\n",
    "    '''\n",
    "    Takes a network and a dictionary whose keys are all node names of network and values are their outcomes.\n",
    "    Returns the joint probability of that set of outcomes. We use the factorisation implied by the graphical\n",
    "    structure.\n",
    "    '''\n",
    "    prod = 1\n",
    "    for node in dfs(network):\n",
    "        prod *= node.pmfs[ tuple(outcome_dict[parent] for parent in node.parents) ][outcome_dict[node]]\n",
    "    return prod\n",
    "\n",
    "def marginals(network):\n",
    "    '''\n",
    "    Given a network, this function returns a dictionary whose keys are the nodes of the network\n",
    "    and values which are dictionaries describing that nodes marginal distribution. It does this\n",
    "    by summing the joint_pmf over the variables to be marginalized. \n",
    "    '''\n",
    "    marginal_dict = dict()\n",
    "    \n",
    "    for remaining_node in dfs(network):\n",
    "        \n",
    "        marginalized_nodes = dfs(network)\n",
    "        marginalized_nodes.remove(remaining_node)\n",
    "        node_marginal_dict = dict()\n",
    "        for remaining_node_outcome in remaining_node.outcomes:\n",
    "            \n",
    "            remaining_node_cumsum = 0\n",
    "            for outcome in itertools.product(*tuple(node.outcomes for node in marginalized_nodes)):\n",
    "                \n",
    "                outcome_dictionary = dict(zip(marginalized_nodes, outcome))\n",
    "                outcome_dictionary[remaining_node] = remaining_node_outcome\n",
    "                remaining_node_cumsum += joint_pmf(outcome_dictionary, network)\n",
    "            node_marginal_dict[remaining_node_outcome] = remaining_node_cumsum\n",
    "\n",
    "        marginal_dict[remaining_node.name] = node_marginal_dict\n",
    "    return marginal_dict"
   ]
  },
  {
   "cell_type": "markdown",
   "metadata": {},
   "source": [
    "3."
   ]
  },
  {
   "cell_type": "code",
   "execution_count": 11,
   "metadata": {
    "collapsed": true
   },
   "outputs": [],
   "source": [
    "def sampled_marginals(network, number_of_samples):\n",
    "    '''\n",
    "    Given a network and a number of samples, the function returns a dictionary whose keys\n",
    "    are the nodes of the network and whose values approximate that nodes marginal distribution.\n",
    "    The values for the marginals are derived from sampling the network using the previous sampler\n",
    "    function.\n",
    "    '''\n",
    "    marginals_dict = dict()\n",
    "    sample_list = [ sample_network(election_model) for i in range(number_of_samples)]\n",
    "    \n",
    "    for node in network.random_variables:\n",
    "        node_samples = np.array( [sample[node.name] for sample in sample_list])\n",
    "        unique, counts = np.unique(node_samples, return_counts=True)\n",
    "        relative_frequencies = counts / number_of_samples\n",
    "        node_marginal_dict = dict(zip(unique, relative_frequencies))\n",
    "        marginals_dict[node.name] = node_marginal_dict\n",
    "        \n",
    "    return marginals_dict"
   ]
  },
  {
   "cell_type": "markdown",
   "metadata": {},
   "source": [
    "4."
   ]
  },
  {
   "cell_type": "code",
   "execution_count": 12,
   "metadata": {},
   "outputs": [
    {
     "name": "stdout",
     "output_type": "stream",
     "text": [
      "hand\n",
      "outcome exact  approx error (%) \n",
      "left    0.90   0.90   0.02\n",
      "right   0.10   0.10   0.20\n",
      "\n",
      "gender\n",
      "outcome exact  approx error (%) \n",
      "male    0.30   0.31   4.53\n",
      "female  0.70   0.69   1.94\n",
      "\n",
      "colour\n",
      "outcome exact  approx error (%) \n",
      "black   0.40   0.40   2.07\n",
      "white   0.60   0.60   1.36\n",
      "\n",
      "region\n",
      "outcome exact  approx error (%) \n",
      "north   0.20   0.19   2.85\n",
      "south   0.10   0.10   3.50\n",
      "east    0.50   0.50   0.56\n",
      "west    0.20   0.20   2.50\n",
      "\n",
      "jacket\n",
      "outcome exact  approx error (%) \n",
      "full    0.28   0.28   1.49\n",
      "part    0.09   0.09   2.04\n",
      "never   0.63   0.64   0.95\n",
      "\n",
      "age\n",
      "outcome exact  approx error (%) \n",
      "new     0.28   0.28   0.53\n",
      "worn    0.59   0.59   0.12\n",
      "old     0.13   0.13   0.56\n",
      "\n",
      "vote\n",
      "outcome exact  approx error (%) \n",
      "bernie  0.15   0.15   1.76\n",
      "donald  0.35   0.34   1.48\n",
      "hillary 0.30   0.30   2.91\n",
      "ted     0.20   0.20   0.37\n",
      "\n"
     ]
    }
   ],
   "source": [
    "def print_marginals_exact_vs_sampled(network, number_of_samples):\n",
    "    '''\n",
    "    Prints a table comparing the exact and sampled marginal values for the nodes\n",
    "    in network.\n",
    "    '''\n",
    "    header = 'outcome exact  approx error (%) '\n",
    "    exact_marginals = marginals(network)\n",
    "    approx_marginals = sampled_marginals(network, number_of_samples)\n",
    "    \n",
    "    for node in dfs(network):\n",
    "        print(node.name)\n",
    "        print(header)\n",
    "        for outcome in node.outcomes:\n",
    "            exact = exact_marginals[node.name][outcome]\n",
    "            approx = approx_marginals[node.name][outcome]\n",
    "            error = abs(approx - exact)/exact * 100\n",
    "            print(outcome + ' '*(8-len(outcome)) + '%.2f   %.2f   %.2f' % (exact, approx, error) )\n",
    "        print('')\n",
    "\n",
    "print_marginals_exact_vs_sampled(election_model, 10**4)"
   ]
  },
  {
   "cell_type": "markdown",
   "metadata": {},
   "source": [
    "### 1B4 Easy conditional probabilities\n",
    "\n",
    "Compute $p(X \\,|\\, G=\\text{female})$ for all $X$ other than $G$,\n",
    "1. Approximately, using your sampler\n",
    "- Exactly, using your marginal calculating function from the previous question. Hint: what happens if you set  $p(G=\\text{female})=1$ in your model?\n",
    "- Plot the results side by side in the same format as the previous question.\n",
    "- State for which variables other than $G$ the theoretical scheme above can be used to compute such conditionals, and why."
   ]
  },
  {
   "cell_type": "markdown",
   "metadata": {},
   "source": [
    "1."
   ]
  },
  {
   "cell_type": "code",
   "execution_count": 13,
   "metadata": {},
   "outputs": [
    {
     "data": {
      "text/plain": [
       "{'age': {'new': 0.28708202343527217,\n",
       "  'old': 0.13903972563589367,\n",
       "  'worn': 0.573878250928827},\n",
       " 'colour': {'black': 0.18505287224921402, 'white': 0.8149471277506943},\n",
       " 'hand': {'left': 0.8981137467846758, 'right': 0.10188625321520246},\n",
       " 'jacket': {'full': 0.2394969991426148,\n",
       "  'never': 0.672620748785324,\n",
       "  'part': 0.08788225207201937},\n",
       " 'region': {'east': 0.4965704486996437,\n",
       "  'north': 0.20834524149757183,\n",
       "  'south': 0.09531294655615734,\n",
       "  'west': 0.19977136324664257},\n",
       " 'vote': {'bernie': 0.13432409259788258,\n",
       "  'donald': 0.3876821949128421,\n",
       "  'hillary': 0.26850528722492545,\n",
       "  'ted': 0.2094884252643624}}"
      ]
     },
     "execution_count": 13,
     "metadata": {},
     "output_type": "execute_result"
    }
   ],
   "source": [
    "def marginals_given_female_sampler(number_of_samples):\n",
    "    '''\n",
    "    Takens integer input and samples the network that many times.\n",
    "    It then filters the samples for when G = female to approxinmate\n",
    "    p(X | G = female) for all X other than G, returning the results\n",
    "    in a dictionary.\n",
    "    '''\n",
    "    sample_list = [sample_network(election_model) for i in range(number_of_samples)]\n",
    "    female_samples = list(filter(lambda sample: sample['gender']=='female', sample_list))\n",
    "    node_list = dfs(election_model)\n",
    "    node_list.remove(gender)\n",
    "    node_dict = dict()\n",
    "    for node in node_list:\n",
    "        node_outcome_counter = { outcome: 0 for outcome in node.outcomes}\n",
    "\n",
    "        for sample in female_samples:\n",
    "            node_outcome_counter[sample[node.name]] += 1/len(female_samples)\n",
    "        \n",
    "        node_dict[node.name] = node_outcome_counter\n",
    "    return node_dict\n",
    "\n",
    "sample_marginals_given_female= marginals_given_female_sampler(10**4)\n",
    "sample_marginals_given_female"
   ]
  },
  {
   "cell_type": "markdown",
   "metadata": {},
   "source": [
    "2."
   ]
  },
  {
   "cell_type": "code",
   "execution_count": 14,
   "metadata": {},
   "outputs": [],
   "source": [
    "_region = RandomVariable(\n",
    "    name='region',\n",
    "    parents=tuple(),\n",
    "    outcomes=('north', 'south', 'east', 'west'), \n",
    "    pmf_array = region_pmf_array)\n",
    "\n",
    "_gender_pmf_array = np.array([[0.0, 1.0]]).T\n",
    "_gender = RandomVariable(\n",
    "    name='gender',\n",
    "    parents=tuple(),\n",
    "    outcomes=('male', 'female'), \n",
    "    pmf_array = _gender_pmf_array)\n",
    "\n",
    "_hand = RandomVariable(\n",
    "    name='hand',\n",
    "    parents=tuple(),\n",
    "    outcomes=('left', 'right'), \n",
    "    pmf_array = hand_pmf_array)\n",
    "\n",
    "_jacket = RandomVariable(\n",
    "    name='jacket',\n",
    "    parents=(_region, _gender),\n",
    "    outcomes=('full', 'part', 'never'), \n",
    "    pmf_array = jacket_pmf_array)\n",
    "\n",
    "_age = RandomVariable(\n",
    "    name='age',\n",
    "    parents=(_jacket, ),\n",
    "    outcomes=('new', 'worn', 'old'), \n",
    "    pmf_array = age_pmf_array)\n",
    "\n",
    "_colour = RandomVariable(\n",
    "    name='colour',\n",
    "    parents=(_gender, _hand),\n",
    "    outcomes=('black', 'white'),\n",
    "    pmf_array = colour_pmf_array)\n",
    "\n",
    "_vote = RandomVariable(\n",
    "    name='vote',\n",
    "    parents=(_region, _age, _colour),\n",
    "    outcomes=vote_outcomes,\n",
    "    pmf_array = vote_pmf_array)\n",
    "\n",
    "modified_election_model = BayesianNetwork(_region, _gender, _hand, _jacket, _age, _colour, _vote)"
   ]
  },
  {
   "cell_type": "code",
   "execution_count": 15,
   "metadata": {},
   "outputs": [
    {
     "data": {
      "text/plain": [
       "{'age': {'new': 0.29125000000000029,\n",
       "  'old': 0.13825000000000004,\n",
       "  'worn': 0.57050000000000056},\n",
       " 'colour': {'black': 0.18299999999999991, 'white': 0.81700000000000028},\n",
       " 'hand': {'left': 0.90000000000000013, 'right': 0.09999999999999995},\n",
       " 'jacket': {'full': 0.23499999999999979,\n",
       "  'never': 0.67500000000000004,\n",
       "  'part': 0.089999999999999983},\n",
       " 'region': {'east': 0.5,\n",
       "  'north': 0.20000000000000012,\n",
       "  'south': 0.099999999999999978,\n",
       "  'west': 0.19999999999999998},\n",
       " 'vote': {'bernie': 0.13311373599999998,\n",
       "  'donald': 0.38725060750000045,\n",
       "  'hillary': 0.26867528599999996,\n",
       "  'ted': 0.21096037050000008}}"
      ]
     },
     "execution_count": 15,
     "metadata": {},
     "output_type": "execute_result"
    }
   ],
   "source": [
    "exact_marginals_given_female = marginals(modified_election_model)\n",
    "del exact_marginals_given_female['gender']\n",
    "\n",
    "exact_marginals_given_female"
   ]
  },
  {
   "cell_type": "markdown",
   "metadata": {},
   "source": [
    "3."
   ]
  },
  {
   "cell_type": "code",
   "execution_count": 16,
   "metadata": {},
   "outputs": [
    {
     "name": "stdout",
     "output_type": "stream",
     "text": [
      "hand\n",
      "outcome exact  approx error (%) \n",
      "left    0.90   0.90   0.21\n",
      "right   0.10   0.10   1.89\n",
      "\n",
      "colour\n",
      "outcome exact  approx error (%) \n",
      "black   0.18   0.19   1.12\n",
      "white   0.82   0.81   0.25\n",
      "\n",
      "region\n",
      "outcome exact  approx error (%) \n",
      "north   0.20   0.21   4.17\n",
      "south   0.10   0.10   4.69\n",
      "east    0.50   0.50   0.69\n",
      "west    0.20   0.20   0.11\n",
      "\n",
      "jacket\n",
      "outcome exact  approx error (%) \n",
      "full    0.23   0.24   1.91\n",
      "part    0.09   0.09   2.35\n",
      "never   0.68   0.67   0.35\n",
      "\n",
      "age\n",
      "outcome exact  approx error (%) \n",
      "new     0.29   0.29   1.43\n",
      "worn    0.57   0.57   0.59\n",
      "old     0.14   0.14   0.57\n",
      "\n",
      "vote\n",
      "outcome exact  approx error (%) \n",
      "bernie  0.13   0.13   0.91\n",
      "donald  0.39   0.39   0.11\n",
      "hillary 0.27   0.27   0.06\n",
      "ted     0.21   0.21   0.70\n",
      "\n"
     ]
    }
   ],
   "source": [
    "header = 'outcome exact  approx error (%) '\n",
    "exact_marginals = exact_marginals_given_female\n",
    "approx_marginals = sample_marginals_given_female\n",
    "node_list = dfs(election_model)\n",
    "node_list.remove(gender)\n",
    "for node in node_list:\n",
    "    print(node.name)\n",
    "    print(header)\n",
    "    for outcome in node.outcomes:\n",
    "        exact = exact_marginals[node.name][outcome]\n",
    "        approx = approx_marginals[node.name][outcome]\n",
    "        error = abs(approx - exact)/exact * 100\n",
    "        print(outcome + ' '*(8-len(outcome)) + '%.2f   %.2f   %.2f' % (exact, approx, error) )\n",
    "    print('')"
   ]
  },
  {
   "cell_type": "markdown",
   "metadata": {},
   "source": [
    "4.\n",
    "\n",
    "This works for any node without a parent, so $R, G, H.$ This is because:\n",
    "\n",
    "\\begin{align*} \n",
    "p( X \\ | G =\\text{female}) &= \\frac{1}{p(G =\\text{female})} \\ \\sum_{\\text{all but  G}} p(X, G=\\text{female}) \\\\\n",
    "                           &= \\frac{1}{p(G =\\text{female})} \\ \\sum_{\\text{all but  G}} p(H)\\ p(G =\\text{female})\\ p(C \\ | \\ H, G =\\text{female}) \\ p(R) \\ p(J \\ | \\ R, G =\\text{female}) \\ p(A \\ | \\ J) \\ p(V \\ | \\ A, R, C) \\\\\n",
    "                           &= \\sum_{\\text{all but  G}} p(H)\\ p(C \\ | \\ H, G =\\text{female}) \\ p(R) \\ p(J \\ | \\ R, G =\\text{female}) \\ p(A \\ | \\ J) \\ p(V \\ | \\ A, R, C)\n",
    "\\end{align*}\n",
    "\n",
    "and this matches the way we compute marginals in a modified model where $p(G = \\text{female}) = 1.$ A similar calculation holds for $R, H.$"
   ]
  },
  {
   "cell_type": "markdown",
   "metadata": {},
   "source": [
    "### 1B5 General conditional probabilities\n",
    "\n",
    "1. Write down the expression of the joint probability $p(R,G,H,J,A,C,V)$ in terms of the conditional probabilities in the graphical model.\n",
    "- Derive $p(G = male \\,|\\, V = Donald)$ in terms of the conditional probabilities of the graphical model.\n",
    "- Compute and display in a human friendly format the conditional distributions $p(G=g \\,|\\, V=v)$ for all genders $g$ and votes $v$, by naively marginalising the other variables (other than $G$ and $V$, that is)."
   ]
  },
  {
   "cell_type": "markdown",
   "metadata": {
    "collapsed": true
   },
   "source": [
    "### Solution description"
   ]
  },
  {
   "cell_type": "markdown",
   "metadata": {},
   "source": [
    "1. $$ p(R, G, H, J, A, C, V) = p(H)\\ p(G)\\ p(C\\ |\\ G, H)\\ p(R)\\ p(J\\ |\\ R, G)\\ p(A\\ |\\ J)\\ p(V\\ |\\ R,A,C)$$"
   ]
  },
  {
   "cell_type": "markdown",
   "metadata": {},
   "source": [
    "2.\n",
    "\n",
    "\\begin{align*}\n",
    "p(G \\ | \\ V) &= \\frac{p(G,V)}{p(V)} \\\\\n",
    "             &= \\frac{1}{p(V)} \\sum_{R,H,J,A,C} p(R, G, H, J, A,C, V) \\\\\n",
    "             &= \\frac{1}{p(V)} \\sum_{R,H,J,A,C} p(H)\\ p(G)\\ p(C\\ |\\ G, H)\\ p(R)\\ p(J\\ |\\ R, G)\\ p(A\\ |\\ J)\\ p(V\\ |\\ R,A,C)\n",
    "\\end{align*}\n",
    "\n",
    "So in particular, \n",
    "\n",
    "$$p(G = \\text{male} \\ | \\ V = \\text{Donald})) = \\frac{p(G= \\text{male})}{p(V= \\text{Donald})} \\sum_{R,H,J,A,C} p(H)\\ p(C\\ |\\ G= \\text{male}, H)\\ p(R)\\ p(J\\ |\\ R, G= \\text{male})\\ p(A\\ |\\ J)\\ p(V= \\text{Donald}\\ |\\ R,A,C)$$\n",
    "\n",
    "Note that $p(V)$ has previously been written in terms of the conditional probabilities in the graphical model as well by similarly summing the factorisation of the joint pmf over the remaining variables."
   ]
  },
  {
   "cell_type": "code",
   "execution_count": 17,
   "metadata": {},
   "outputs": [],
   "source": [
    "def conditionals(network, node1, node2):\n",
    "    '''\n",
    "    Given a DAG and two nodes, this function returns a dictionary whose keys are all pairs \n",
    "    of possible outcomes of the two nodes, and value is p(node1 | node 2). It computes the\n",
    "    values by naively marginalising over the variables in network other than node 1 and\n",
    "    node 2 as done in the question above.\n",
    "    '''\n",
    "    \n",
    "    # Form all possible outcome pairs for node 1 and node 2\n",
    "    outcome_pairs = list(itertools.product(node1.outcomes, node2.outcomes))\n",
    "    conditional_dict = dict() # Initialize dictionary that will be returned\n",
    "    node2_marginals = marginals(network)[node2.name]\n",
    "    \n",
    "    for node1_outcome, node2_outcome in outcome_pairs:\n",
    "            marginalized_nodes = dfs(network)\n",
    "            marginalized_nodes.remove(node1)\n",
    "            marginalized_nodes.remove(node2)\n",
    "            \n",
    "            node1_given_node2_cumsum = 0\n",
    "            \n",
    "            # Iterate over product of outcomes for marginalized variables, summing the pmf\n",
    "            for marginalized_outcomes in itertools.product(*tuple(node.outcomes for node in marginalized_nodes)):\n",
    "                #Form appropriate dictionary of outcomes for each tuple\n",
    "                outcome_dictionary = dict(zip(marginalized_nodes, marginalized_outcomes))\n",
    "                outcome_dictionary[node1] = node1_outcome\n",
    "                outcome_dictionary[node2] = node2_outcome\n",
    "                \n",
    "                node1_given_node2_cumsum += joint_pmf(outcome_dictionary, network)\n",
    "                \n",
    "            conditional_dict[(node1_outcome),(node2_outcome)] = node1_given_node2_cumsum/node2_marginals[node2_outcome] \n",
    "    return conditional_dict\n",
    "    \n",
    "    "
   ]
  },
  {
   "cell_type": "code",
   "execution_count": 18,
   "metadata": {},
   "outputs": [
    {
     "name": "stdout",
     "output_type": "stream",
     "text": [
      "Gender  Vote     p(Gender|Vote)\n",
      "-------------------------------\n",
      "male    bernie   0.398132990181\n",
      "male    donald   0.214321628636\n",
      "male    hillary  0.363555529929\n",
      "male    ted      0.278437575417\n",
      "female  bernie   0.601867009819\n",
      "female  donald   0.785678371364\n",
      "female  hillary  0.636444470071\n",
      "female  ted      0.721562424583\n"
     ]
    }
   ],
   "source": [
    "gender_given_vote = conditionals(election_model, gender, vote)\n",
    "\n",
    "print('Gender  Vote     p(Gender|Vote)')\n",
    "print('-------------------------------')\n",
    "for (gender, vote), conditional in gender_given_vote.items():\n",
    "    print(gender,' '*(6 - len(gender)), vote, ' '*(7-len(vote)), conditional)"
   ]
  },
  {
   "cell_type": "markdown",
   "metadata": {},
   "source": [
    "### 1B6 Variable elimination\n",
    "\n",
    "Denote the graphical model consider thus far $\\mathcal{M}$.\n",
    "\n",
    "1. Derive $p(R,G,J,A,C,V)$ by marginalising over $H$ in $\\mathcal{M}$. \n",
    "- Describe how the structure (connectivity) of the new graphical model (call it $\\mathcal{M}_H$) over all variables other than $H$ changes after eliminating $H$ in this way.\n",
    "- Describe which conditional(s) in the new graphical model differ from the original model.\n",
    "- Encode the $\\mathcal{M}_H$ in python similarly to $\\mathcal{M}$. "
   ]
  },
  {
   "cell_type": "markdown",
   "metadata": {
    "collapsed": true
   },
   "source": [
    "1.\n",
    "\n",
    "\\begin{align*}\n",
    "p(R, G, J, A, C, V) &= \\sum_{H} p(R, G, H, J, A, C, V) \\\\\n",
    "                    &= \\sum_{H} p(H)\\ p(G)\\ p(C\\ |\\ G, H)\\ p(R)\\ p(J\\ |\\ R, G)\\ p(A\\ |\\ J)\\ p(V\\ |\\ R,A,C)\\\\\n",
    "                    &= p(G)\\ p(R)\\ p(J\\ |\\ R, G)\\ p(A\\ |\\ J)\\ p(V\\ |\\ R,A,C) \\sum_{H} p(H)\\ p(C\\ |\\ G, H)\n",
    "\\end{align*}\n",
    "\n",
    "By the Markov property at $G$ we can see that $p(G,H) = p(G)\\ p(H),$ so \n",
    "\n",
    "$$ p(C\\ | \\ G,H) = \\frac{ p(C,G,H) }{p(G,H)} = \\frac{ p(C,G,H) }{p(G)\\ p(H)}$$\n",
    "\n",
    "So the last sum simplifies as: \n",
    "\n",
    "\\begin{align*}\n",
    "\\sum_{H} p(H)\\ p(C\\ |\\ G, H) &= \\sum_{H} \\frac{ p(C,G,H)}{p(G)} \\\\\n",
    "                             &= \\frac{ p(C,G) }{p(G)} \\\\\n",
    "                             &= p(C \\ | \\ G)\n",
    "\\end{align*}\n",
    "\n",
    "Therefore we have \n",
    "\n",
    "$$ p(R, G, J, A, C, V) = p(G)\\ p(C\\ | \\ G)\\ p(R)\\ p(J\\ |\\ R, G)\\ p(A\\ |\\ J)\\ p(V\\ |\\ R,A,C)$$"
   ]
  },
  {
   "cell_type": "markdown",
   "metadata": {},
   "source": [
    "\n",
    " \n",
    "2.\n",
    "\n",
    "The new graphical model $\\mathcal{M}_H$ is the same as $\\mathcal{M}$ except the node $H$ and the arrow from $H$ to $C$ is removed.\n",
    "\n",
    "3.\n",
    "\n",
    "All remaining nodes in the new model are conditioned in the same way except for $C,$ which now is conditioned only on $G.$"
   ]
  },
  {
   "cell_type": "markdown",
   "metadata": {},
   "source": [
    "4."
   ]
  },
  {
   "cell_type": "code",
   "execution_count": 19,
   "metadata": {
    "collapsed": true
   },
   "outputs": [],
   "source": [
    "region_H = RandomVariable(\n",
    "    name='region',\n",
    "    parents=tuple(),\n",
    "    outcomes=('north', 'south', 'east', 'west'), \n",
    "    pmf_array = region_pmf_array)\n",
    "\n",
    "\n",
    "gender_H = RandomVariable(\n",
    "    name='gender',\n",
    "    parents=tuple(),\n",
    "    outcomes=('male', 'female'), \n",
    "    pmf_array = gender_pmf_array)\n",
    "\n",
    "jacket_H = RandomVariable(\n",
    "    name='jacket',\n",
    "    parents=(region_H, gender_H),\n",
    "    outcomes=('full', 'part', 'never'), \n",
    "    pmf_array = jacket_pmf_array)\n",
    "\n",
    "age_H = RandomVariable(\n",
    "    name='age',\n",
    "    parents=(jacket_H, ),\n",
    "    outcomes=('new', 'worn', 'old'), \n",
    "    pmf_array = age_pmf_array)\n",
    "\n",
    "\n",
    "colour_pmf_array_H = np.array(\n",
    "        [\n",
    "            [0.893,0.183],\n",
    "            [0.107,0.817],\n",
    "        ]\n",
    "    )\n",
    "colour_H = RandomVariable(\n",
    "    name='colour',\n",
    "    parents=(gender_H, ),\n",
    "    outcomes=('black', 'white'),\n",
    "    pmf_array = colour_pmf_array_H)\n",
    "\n",
    "vote_H = RandomVariable(\n",
    "    name='vote',\n",
    "    parents=(region_H, age_H, colour_H),\n",
    "    outcomes=vote_outcomes,\n",
    "    pmf_array = vote_pmf_array)\n",
    "\n",
    "election_model_H = BayesianNetwork(region_H, gender_H, jacket_H, age_H, colour_H, vote_H)"
   ]
  },
  {
   "cell_type": "markdown",
   "metadata": {},
   "source": [
    "### 1B6 General estimation of conditional probabilities (revisited)\n",
    "\n",
    "1. As you did earlier, compute and display in a human friendly format the conditional distributions $p(G=g \\,|\\, V=v)$ for all genders $g$ and votes $v$, by naively marginalising the other variables (other than $G$ and $V$, that is). This time however, do so using $\\mathcal{M}_H$ rather than $\\mathcal{M}$.\n",
    "- Quantify the computational advantages of using $\\mathcal{M}_H$ in this way rather than $\\mathcal{M}$.\n",
    "- Which variable (or variables) would be the best to eliminate in this way, in terms of the aforementioned computational advantages, and why?\n",
    "- Pick a (best) variable from the previous question and call it $X$. Assuming we have eliminated $X$, which would be the \"best\" variable to subsequently eliminate in a similar fashion?"
   ]
  },
  {
   "cell_type": "markdown",
   "metadata": {},
   "source": [
    "1."
   ]
  },
  {
   "cell_type": "code",
   "execution_count": 20,
   "metadata": {},
   "outputs": [
    {
     "name": "stdout",
     "output_type": "stream",
     "text": [
      "Gender  Vote     p(Gender|Vote)\n",
      "-------------------------------\n",
      "male    bernie   0.398132990181\n",
      "male    donald   0.214321628636\n",
      "male    hillary  0.363555529929\n",
      "male    ted      0.278437575417\n",
      "female  bernie   0.601867009819\n",
      "female  donald   0.785678371364\n",
      "female  hillary  0.636444470071\n",
      "female  ted      0.721562424583\n"
     ]
    }
   ],
   "source": [
    "gender_given_vote_H = conditionals(election_model_H, gender_H, vote_H)\n",
    "\n",
    "print('Gender  Vote     p(Gender|Vote)')\n",
    "print('-------------------------------')\n",
    "for (gender, vote), conditional in gender_given_vote_H.items():\n",
    "    print(gender,' '*(6 - len(gender)), vote, ' '*(7-len(vote)), conditional)"
   ]
  },
  {
   "cell_type": "markdown",
   "metadata": {},
   "source": [
    "2.\n",
    "\n",
    "We compute the conditional via the expression $$ p(G \\ | V) = \\frac{p(G, V)}{p(V)}$$\n",
    "\n",
    "The numerator and denominator were computed by summing over the marginalized variables. To analyse the relative computation loads, we focus on counting the number of multiplications taken to reach the result as the additions are relatively small. We count this for computation of the denominator (the numerator takes half as many multiplications). Throughout the computation, keep in mind that $R, A, C, J, H, G$ have $4, 3, 2, 3, 2, 2$ possible values respectively. \n",
    "\n",
    "Computing as we did originally, \n",
    "\n",
    "$$ p(V=v) = \\sum_{R,A,C,J,H,G} p(H)\\ p(G)\\ p(C\\ |\\ G, H)\\ p(R)\\ p(J\\ |\\ R, G)\\ p(A\\ |\\ J)\\ p(V=v\\ |\\ R,A,C)$$\n",
    "\n",
    "This has $4 \\cdot 3 \\cdot 2 \\cdot 3 \\cdot 2 \\cdot 2 = 288$ terms in the sum. Each term has $7$ factors (whose values are precomputed) so each term of the sum takes $6$ multiplications to evaluate.  So this computation requires $6\\ \\cdot \\ 288 = 1728$ multiplications. \n",
    "\n",
    "Now we look at the same computation as done using $\\mathcal{M}_H.$ This exhibits the process of \"elimination of variables\" for $H$, but the same steps can be applied for any variable other than $G,V,$ not just $H.$ \n",
    "\n",
    "The new computation was essentially to push the sum over $H$ and any terms that depend on $H$ inside and rewrite the marginal as follows:\n",
    "\n",
    "\\begin{align*}\n",
    "p(V=v) &= \\sum_{R,A,C,J,G} p(G)\\ p(R)\\ p(J\\ |\\ R, G)\\ p(A\\ |\\ J)\\ p(V=v\\ |\\ R,A,C) \\sum_H p(H)\\ p(C\\ |\\ G, H)\\\\\n",
    "       &= \\sum_{R,A,C,J,G} p(G)\\ p(R)\\ p(J\\ |\\ R, G)\\ p(A\\ |\\ J)\\ p(V=v\\ |\\ R,A,C) \\ \\cdot \\  f_1 (C, G)\n",
    "\\end{align*}\n",
    "\n",
    "where $f_1$ is a function of $C$ and $G$ only. We computed the values of $f_1$ for all possible $C,G$ and reused when it came time to compute the marginal. There are $2 \\cdot 2 = 4$ pairs in the domain of $f_1.$ The computation for each is a sum of $2$ terms, each term requiring $1$ multiplication. So the computation of $f_1$ required $8$ multiplications. \n",
    "\n",
    "Now, to compute $p(V=v)$ taking advantage of our values for $f_1,$ we have a sum with $4\\ \\cdot \\ 3\\ \\cdot \\ 2\\ \\cdot \\ 3\\ \\cdot \\ 2 = 144$ terms, each term being a product of $6$ factors so requiring $5$ multiplications each. So this final part of the computation takes $144 \\ \\cdot \\  5 = 720$ multiplications. Taking into account the multiplications required in computing $f_1,$ the total number of multiplications ia $728.$\n",
    "\n",
    "So calculating conditions from the new model should are roughly $2.5$ times faster than the original model."
   ]
  },
  {
   "cell_type": "markdown",
   "metadata": {},
   "source": [
    "3 . \n",
    "\n",
    "Here are the results from repeating the same calculation for the other variables that we did for $H:$\n",
    "\\begin{align*}\n",
    "R &: 576 \\\\\n",
    "A &: 552 \\\\\n",
    "C &: 816 \\\\\n",
    "J &: 552\n",
    "\\end{align*}\n",
    "\n",
    "So in terms of computation advantage, it is best to eliminate either $A$ or $J.$"
   ]
  },
  {
   "cell_type": "markdown",
   "metadata": {},
   "source": [
    "4.\n",
    "\n",
    "Suppose we choose to eliminate $A$ first. Then by calculations of the same style as above, we list the number of multiplications required to compute $p(V=v)$ if we eliminate another variable after $A.$\n",
    "\n",
    "\\begin{align*}\n",
    "J &: 248 \\\\\n",
    "R &: 244 \\\\\n",
    "C &: 360 \\\\\n",
    "H &: 272\n",
    "\\end{align*}\n",
    "\n",
    "So if we picked $A$ to eliminate first and will eliminate one more, than the best one to pick next is $R.$"
   ]
  }
 ],
 "metadata": {
  "kernelspec": {
   "display_name": "Python 3",
   "language": "python",
   "name": "python3"
  },
  "language_info": {
   "codemirror_mode": {
    "name": "ipython",
    "version": 3
   },
   "file_extension": ".py",
   "mimetype": "text/x-python",
   "name": "python",
   "nbconvert_exporter": "python",
   "pygments_lexer": "ipython3",
   "version": "3.7.3"
  }
 },
 "nbformat": 4,
 "nbformat_minor": 1
}
