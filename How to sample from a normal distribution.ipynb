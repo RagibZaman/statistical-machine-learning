{
 "cells": [
  {
   "cell_type": "markdown",
   "metadata": {},
   "source": [
    "# A procedure to generate samples from the Normal distribution"
   ]
  },
  {
   "cell_type": "markdown",
   "metadata": {},
   "source": [
    "Suppose we have a method to generate independent samples from the uniform distribution over the interval $[-1,1].$ Then we can generate samples from $N(0,1)$ by repeatedly generating $x, y$ from $\\text{Uniform}(-1,1)$ until $(x,y)$ lies within the unit circle, and then returning $z = \\frac{2x}{r} \\sqrt{-\\log r},$ where $r$ is the distance of $(x,y)$ to the origin.\n",
    "\n",
    "The fact that $z \\sim N(0,1)$ follows immediately from the results in the calculation below, where we see that the CDF of z, given by $\\mathbb{P}(X\\leq X \\ | \\ S<1)$ in the notation below, is indeed the CDF of the standard normal distribution.\n"
   ]
  },
  {
   "cell_type": "markdown",
   "metadata": {},
   "source": [
    "###  Functions of random variables\n",
    "\n",
    "$u$ and $v$ are independently sampled from the standard uniform distribution on the unit interval, $[0,1]$. \n",
    "\n",
    "If $s=(2u-1)^2+(2v-1)^2 \\geq 1$ then $x$ is sampled from the standard normal distribution, $\\mathcal{N}(0,1)$. Otherwise $x=(2u-1)\\sqrt{-2 \\log(s)/s}$.\n",
    "\n",
    "How is $x$ distributed?"
   ]
  },
  {
   "cell_type": "markdown",
   "metadata": {},
   "source": [
    "### Solution description\n",
    "\n",
    "We make a substitution $P = 2U-1, Q = 2V-1.$ Then $P, Q$ are i.i.d. samples from $\\text{Uniform}(-1,1)$ and $S = P^2 + Q^2.$ If $S\\geq 1$ then $X$ is sampled from the standard normal distribution, otherwise $X = P \\sqrt{-2 \\log(S)/S}.$ The joint distribution of $P,Q$ is the uniform distribution on $[-1,1]^2,$ and has density $f_{P,Q} (p,q) = \\frac{1}{4} \\cdot \\mathbb{1}_{[-1,1]^2} (p,q).$ By definition, for any (Lebesgue measurable) subset $\\mathcal{E}\\subseteq \\mathbb{R}^2,$ we have \n",
    "\\begin{equation}\n",
    "\\mathbb{P}( (P,Q)\\in  \\mathcal{E}) = \\int_{\\mathcal{E}} \\frac{1}{4} \\cdot \\mathbb{1}_{[-1,1]^2} (p,q) dp dq \\ \\ \\  \\ \\ \\ \\text{(*)}\n",
    "\\end{equation}\n",
    "\n",
    "Thus, since $S < 1$ iff $(P,Q)$ lies inside the unit circle, we have $\\mathbb{P}(S < 1) = \\pi/4.$\n",
    "\n",
    "The CDF of $X$ can be decomposed as:\n",
    "\n",
    "\\begin{align*}\n",
    "\\mathbb{P}( X \\leq x) &= \\mathbb{P}( X \\leq x, S \\geq 1) + \\mathbb{P}(X \\leq x, S < 1) \\\\\n",
    "                      &= \\mathbb{P}(S \\geq 1) \\ \\mathbb{P}(X \\leq x \\ | \\ S \\geq 1) + \\mathbb{P}(X \\leq x, S < 1) \\\\\n",
    "                      &= (1 - \\pi/4) \\ \\mathbb{P}(X \\leq x \\ | \\ S \\geq 1) + \\mathbb{P}(X \\leq x, S < 1) \\\\\n",
    "\\end{align*}"
   ]
  },
  {
   "cell_type": "markdown",
   "metadata": {},
   "source": [
    "The first term is a constant times the CDF of the standard normal, so we can focus on the second term. Again from (*), we have \n",
    "$ \\mathbb{P}(X \\leq x, s < 1) = \\frac{1}{4} \\cdot \\text{Area}\\left(\\mathcal{R} \\right)$\n",
    "\n",
    "where $$\\mathcal{R} = \\left\\{(p,q)\\in [-1,1]^2 \\ \\big| \\ p \\sqrt{-2\\log(s)/s} \\leq x\\right\\} .$$\n",
    "\n",
    "In polar coordinates $P = r \\cos \\theta, Q = r \\sin \\theta$ this becomes \n",
    "\n",
    "$$ \\mathcal{R} = \\left\\{ r\\in (0,1), \\theta \\in (-\\pi,\\pi] \\ \\big| \\ 2 \\cos \\theta \\sqrt{-\\log r} \\leq x \\right\\}$$\n",
    "\n",
    "By continuity, the boundary $\\partial \\mathcal{R}$ divides the plane into regions where the inequaity is valid or invalid. It has equation $ 2 \\cos \\theta \\sqrt{-\\log r} = x$ which can be arranged as $r = \\exp\\left(- \\left( \\frac{x}{2\\cos \\theta} \\right)^2 \\right).$ This defines two loops symmetrical about the $y$-axis inside the unit circle $\\mathcal{R}_1, \\mathcal{R}_2$ that are traced by the curve from $\\theta \\in (-\\pi/2,\\pi/2 ]$ and $\\theta\\in (-\\pi, -\\pi/2 ] \\cup (\\pi/2, \\pi ] $ respectively."
   ]
  },
  {
   "cell_type": "markdown",
   "metadata": {},
   "source": [
    "Lemma: If $x< 0,$ then $\\mathcal{R}$ is the region inside the left loop $\\mathcal{R}_1,$ and if $x\\geq 0,$ then $\\mathcal{R}$ is the region outside the right loop $\\mathcal{R}_2.$\n",
    "\n",
    "Proof: For the first case, consider a point $(r, \\theta)$ near the boundary of the left loop. Note that $\\cos \\theta$ is negative here. The value of $2 \\cos \\theta \\sqrt{-\\log r}$ is monotonically increasing with $r,$ so the inequality holds as we go further inside the left loop. Similarly, for the second case consider a point $(r, \\theta)$ near the boundary of the right loop. Since $\\cos \\theta$ is positive, the inequality holds as $r$ increases (i.e. go away from the loop)."
   ]
  },
  {
   "cell_type": "markdown",
   "metadata": {},
   "source": [
    "Let $I(x)$ be the area inside the left loop (or equivalently, the right one). We've established that $\\text{Area}(\\mathcal{R}) = I(x)$ if $x < 0,$ and $\\text{Area}(\\mathcal{R}) = \\pi - I(x)$ if $x\\geq 0.$ Recall that the area inside a closed loop given in polar coordinates is $\\int^{\\theta_2}_{\\theta_1} r^2/2 \\ d\\theta.$ Then we have \n",
    "\n",
    "$$ I(x) = \\int^{\\pi/2}_{-\\pi/2} \\frac{1}{2} \\exp\\left( - \\frac{x^2}{2\\cos^2 \\theta}\\right) \\ d\\theta= \\int^{\\pi/2}_{0} \\exp\\left( - \\frac{x^2 }{2}\\sec^2 \\theta\\right) \\ d\\theta.$$\n",
    "\n",
    "Differentiating under the integral sign gives:\n",
    "\n",
    "$$ I'(x) = -x \\int^{\\pi/2}_0 \\sec^2 \\theta \\ \\exp\\left( - \\frac{x^2 }{2}\\sec^2 \\theta\\right) \\ d\\theta$$\n",
    "\n",
    "Making the substitution $t = \\tan \\theta,$ we have \n",
    "\\begin{align*}\n",
    "I'(x) &= -x \\int^{\\infty}_0 \\exp\\left( - \\frac{x^2}{2} (t^2+1) \\right) \\ dt \\\\\n",
    "      &= -x \\exp(-x^2/2) \\int^{\\infty}_0 \\exp( -x^2 t^2/2) \\ dt \\\\\n",
    "      &= - x \\exp(-x^2/2) \\frac{\\sqrt{\\pi}}{|x| \\cdot \\sqrt{2}} \\\\\n",
    "      &= - \\  \\text{sign}(x) \\ \\frac{\\sqrt{\\pi}}{\\sqrt{2}} \\exp(-x^2/2)\n",
    "\\end{align*}"
   ]
  },
  {
   "cell_type": "markdown",
   "metadata": {},
   "source": [
    "Therefore, $\\frac{d}{dx} \\text{Area}(\\mathcal{R}) = \\frac{\\sqrt{\\pi}}{\\sqrt{2}} \\exp(-x^2/2).$ Returning to the decomposition of $\\mathbb{P}(X \\leq x)$ near the start, differentiating gives the density:\n",
    "\n",
    "\\begin{align*}\n",
    "f_X(x) &= \\left( 1 - \\frac{\\pi}{4} \\right) \\cdot \\frac{1}{\\sqrt{2\\pi}} \\exp(-x^2/2) + \\frac{1}{4} \\cdot \\frac{\\sqrt{\\pi}}{\\sqrt{2}} \\exp(-x^2/2) \\\\\n",
    " &= \\frac{1}{\\sqrt{2\\pi}} \\exp(-x^2/2)\n",
    "\\end{align*}\n",
    "\n",
    "So $X$ is distributed as a standard normal."
   ]
  }
 ],
 "metadata": {
  "kernelspec": {
   "display_name": "Python 3",
   "language": "python",
   "name": "python3"
  },
  "language_info": {
   "codemirror_mode": {
    "name": "ipython",
    "version": 3
   },
   "file_extension": ".py",
   "mimetype": "text/x-python",
   "name": "python",
   "nbconvert_exporter": "python",
   "pygments_lexer": "ipython3",
   "version": "3.7.3"
  }
 },
 "nbformat": 4,
 "nbformat_minor": 1
}
